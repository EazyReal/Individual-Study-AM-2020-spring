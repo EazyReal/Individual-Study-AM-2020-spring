{
 "cells": [
  {
   "cell_type": "code",
   "execution_count": 2,
   "metadata": {},
   "outputs": [],
   "source": [
    "import numpy as np\n",
    "from collections import defaultdict\n",
    "import networkx as nx\n",
    "\n",
    "from cactus_generator import RandomCatusGenerator"
   ]
  },
  {
   "cell_type": "code",
   "execution_count": 3,
   "metadata": {},
   "outputs": [
    {
     "ename": "SyntaxError",
     "evalue": "invalid syntax (<ipython-input-3-d640c3fda6ee>, line 1)",
     "output_type": "error",
     "traceback": [
      "\u001b[0;36m  File \u001b[0;32m\"<ipython-input-3-d640c3fda6ee>\"\u001b[0;36m, line \u001b[0;32m1\u001b[0m\n\u001b[0;31m    13 3\u001b[0m\n\u001b[0m       ^\u001b[0m\n\u001b[0;31mSyntaxError\u001b[0m\u001b[0;31m:\u001b[0m invalid syntax\n"
     ]
    }
   ],
   "source": [
    "13 3\n",
    "0 1 \n",
    "0 2\n",
    "0 3 \n",
    "0 4 \n",
    "1 5\n",
    "1 6 \n",
    "2 7\n",
    "2 8\n",
    "3 9\n",
    "3 10\n",
    "4 11\n",
    "4 12\n",
    "(10)"
   ]
  },
  {
   "cell_type": "code",
   "execution_count": 4,
   "metadata": {},
   "outputs": [
    {
     "ename": "SyntaxError",
     "evalue": "invalid syntax (<ipython-input-4-1430478985c1>, line 1)",
     "output_type": "error",
     "traceback": [
      "\u001b[0;36m  File \u001b[0;32m\"<ipython-input-4-1430478985c1>\"\u001b[0;36m, line \u001b[0;32m1\u001b[0m\n\u001b[0;31m    13 4\u001b[0m\n\u001b[0m       ^\u001b[0m\n\u001b[0;31mSyntaxError\u001b[0m\u001b[0;31m:\u001b[0m invalid syntax\n"
     ]
    }
   ],
   "source": [
    "13 4\n",
    "0 1 \n",
    "0 2\n",
    "0 3 \n",
    "0 4 \n",
    "1 5\n",
    "1 6 \n",
    "2 7\n",
    "2 8\n",
    "3 9\n",
    "3 10\n",
    "4 11\n",
    "4 12\n",
    "(13)"
   ]
  },
  {
   "cell_type": "code",
   "execution_count": null,
   "metadata": {},
   "outputs": [],
   "source": [
    "13 4\n",
    "12 1 \n",
    "12 2\n",
    "12 3 \n",
    "12 4 \n",
    "1 5\n",
    "1 6 \n",
    "2 7\n",
    "2 8\n",
    "3 9\n",
    "3 10\n",
    "4 11\n",
    "4 0\n",
    "(13)"
   ]
  },
  {
   "cell_type": "code",
   "execution_count": null,
   "metadata": {},
   "outputs": [],
   "source": [
    "5 6\n",
    "0 1 0 2 0 3 0 4\n",
    "(5)"
   ]
  }
 ],
 "metadata": {
  "kernelspec": {
   "display_name": "Python 3",
   "language": "python",
   "name": "python3"
  },
  "language_info": {
   "codemirror_mode": {
    "name": "ipython",
    "version": 3
   },
   "file_extension": ".py",
   "mimetype": "text/x-python",
   "name": "python",
   "nbconvert_exporter": "python",
   "pygments_lexer": "ipython3",
   "version": "3.7.4"
  }
 },
 "nbformat": 4,
 "nbformat_minor": 2
}
