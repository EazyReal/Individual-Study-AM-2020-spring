{
 "cells": [
  {
   "cell_type": "code",
   "execution_count": 2,
   "metadata": {},
   "outputs": [],
   "source": [
    "import random\n",
    "import os\n",
    "import numpy as np"
   ]
  },
  {
   "cell_type": "code",
   "execution_count": 32,
   "metadata": {},
   "outputs": [],
   "source": [
    "class RandomCatusGenerator:\n",
    "    # find a seed graph G\n",
    "    # then find a spanning tree T\n",
    "    # use T on G extend to a cactus by tries t\n",
    "    # https://link.springer.com/chapter/10.1007/978-3-030-10448-1_12\n",
    "    def __init__(self):\n",
    "        pass\n",
    "    \n",
    "    @staticmethod\n",
    "    def findG(n, p):\n",
    "        G = np.random.binomial(1, p, n*n).reshape(n, n)\n",
    "        # self loop ok \n",
    "        return G\n",
    "    \n",
    "    @staticmethod\n",
    "    def findT(n, G):\n",
    "        vis = [False]*n\n",
    "        T = np.zeros((n,n))\n",
    "        def dfs(u):\n",
    "            vis[u] = True\n",
    "            for v in range(n):\n",
    "                if(G[u][v] != 0 and not vis[v]):\n",
    "                    T[u][v] = T[v][u] = 1\n",
    "                    dfs(v)\n",
    "                    \n",
    "        for i in range(n):\n",
    "            if(not vis[i]):\n",
    "                dfs(i)\n",
    "                T[i-1][i] = T[i][i-1] = 1\n",
    "        return T\n",
    "    \n",
    "    @staticmethod\n",
    "    def findK(n, T, G, t):\n",
    "        def conflict(x, y):\n",
    "            pass\n",
    "        try_time = 0\n",
    "        K = T\n",
    "        while(try_time < t):\n",
    "            u = random.randint(1, n)\n",
    "            v = random.randint(1, n)\n",
    "            if(u == v or confilict(u, v)):\n",
    "                try_time += 1\n",
    "                continue\n",
    "            else:\n",
    "                K[u][v] = K[v][u] = 1\n",
    "        return K\n",
    "        \n",
    "    @staticmethod\n",
    "    # n = #vertex\n",
    "    # p = prob of connection to find \n",
    "    def generate(n, p, t):\n",
    "        G = RandomCatusGenerator.findG(n,p)\n",
    "        T = RandomCatusGenerator.findT(n, G)\n",
    "        K = RandomCatusGenerator.findK(n, T, G, t)\n",
    "        return K\n",
    "        "
   ]
  },
  {
   "cell_type": "code",
   "execution_count": 33,
   "metadata": {},
   "outputs": [
    {
     "name": "stdout",
     "output_type": "stream",
     "text": [
      "[[0. 0. 0. 0. 0. 0. 0. 0. 0. 0.]\n",
      " [0. 0. 0. 0. 0. 0. 0. 0. 0. 0.]\n",
      " [0. 0. 0. 0. 0. 0. 0. 0. 0. 0.]\n",
      " [0. 0. 0. 0. 0. 0. 0. 0. 0. 0.]\n",
      " [0. 0. 0. 0. 0. 0. 0. 0. 0. 0.]\n",
      " [0. 0. 0. 0. 0. 0. 0. 0. 0. 0.]\n",
      " [0. 0. 0. 0. 0. 0. 0. 0. 0. 0.]\n",
      " [0. 0. 0. 0. 0. 0. 0. 0. 0. 0.]\n",
      " [0. 0. 0. 0. 0. 0. 0. 0. 0. 0.]\n",
      " [0. 0. 0. 0. 0. 0. 0. 0. 0. 0.]]\n",
      "[[0. 1. 0. 0. 0. 0. 0. 0. 0. 1.]\n",
      " [1. 0. 0. 1. 0. 0. 0. 0. 0. 0.]\n",
      " [0. 0. 0. 1. 0. 0. 1. 0. 0. 0.]\n",
      " [0. 1. 1. 0. 0. 0. 0. 0. 0. 0.]\n",
      " [0. 0. 0. 0. 0. 1. 1. 0. 0. 1.]\n",
      " [0. 0. 0. 0. 1. 0. 0. 1. 0. 0.]\n",
      " [0. 0. 1. 0. 1. 0. 0. 0. 0. 0.]\n",
      " [0. 0. 0. 0. 0. 1. 0. 0. 0. 0.]\n",
      " [0. 0. 0. 0. 0. 0. 0. 0. 0. 1.]\n",
      " [1. 0. 0. 0. 1. 0. 0. 0. 1. 0.]]\n"
     ]
    }
   ],
   "source": [
    "T = RandomCatusGenerator.generate(10, 0.5, 1)"
   ]
  }
 ],
 "metadata": {
  "kernelspec": {
   "display_name": "Python 3",
   "language": "python",
   "name": "python3"
  },
  "language_info": {
   "codemirror_mode": {
    "name": "ipython",
    "version": 3
   },
   "file_extension": ".py",
   "mimetype": "text/x-python",
   "name": "python",
   "nbconvert_exporter": "python",
   "pygments_lexer": "ipython3",
   "version": "3.7.4"
  }
 },
 "nbformat": 4,
 "nbformat_minor": 2
}
