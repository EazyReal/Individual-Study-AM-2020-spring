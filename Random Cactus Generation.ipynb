{
 "cells": [
  {
   "cell_type": "code",
   "execution_count": 8,
   "metadata": {},
   "outputs": [],
   "source": [
    "import random\n",
    "import os\n",
    "import numpy as np"
   ]
  },
  {
   "cell_type": "code",
   "execution_count": 97,
   "metadata": {},
   "outputs": [],
   "source": [
    "class RandomCatusGenerator:\n",
    "    # find a seed graph G\n",
    "    # then find a spanning tree T\n",
    "    # use T on G extend to a cactus by tries t\n",
    "    # https://link.springer.com/chapter/10.1007/978-3-030-10448-1_12\n",
    "    def __init__(self):\n",
    "        pass\n",
    "    \n",
    "    @staticmethod\n",
    "    def findG(n, p):\n",
    "        G = np.random.binomial(1, p, n*n).reshape(n, n)\n",
    "        # self loop ok \n",
    "        return G\n",
    "    \n",
    "    @staticmethod\n",
    "    def findT(n, G):\n",
    "        vis = [False]*n\n",
    "        T = np.zeros((n,n))\n",
    "        def dfs(u):\n",
    "            for v in range(n):\n",
    "                if(G[u][v] != 0 and not vis[v]):\n",
    "                    vis[v] = 1\n",
    "                    T[u][v] = T[v][u] = 1\n",
    "                    dfs(v)\n",
    "                    \n",
    "        for i in range(n):\n",
    "            if(not vis[i]):\n",
    "                vis[i] = 1\n",
    "                if(i > 0):\n",
    "                    T[i-1][i] = T[i][i-1] = 1\n",
    "                dfs(i)\n",
    "        deg = 0\n",
    "        for i in range(n):\n",
    "            for j in range(n):\n",
    "                if(i == j):\n",
    "                    assert(T[i][j] == 0)\n",
    "                deg += T[i][j]\n",
    "        assert(deg == 2*n-2)\n",
    "        return T\n",
    "    \n",
    "    @staticmethod\n",
    "    def findK(n, T, G, t):\n",
    "        def conflict(x, y):\n",
    "            return 1\n",
    "            pass\n",
    "        try_time = 0\n",
    "        K = T\n",
    "        while(try_time < t):\n",
    "            u = random.randint(1, n)\n",
    "            v = random.randint(1, n)\n",
    "            if(u == v or conflict(u, v)):\n",
    "                try_time += 1\n",
    "                continue\n",
    "            else:\n",
    "                K[u][v] = K[v][u] = 1\n",
    "        return K\n",
    "        \n",
    "    @staticmethod\n",
    "    # n = #vertex\n",
    "    # p = prob of connection to find \n",
    "    def generate(n, p, t):\n",
    "        G = RandomCatusGenerator.findG(n,p)\n",
    "        T = RandomCatusGenerator.findT(n, G)\n",
    "        K = RandomCatusGenerator.findK(n, T, G, t)\n",
    "        return K\n",
    "    \n",
    "    def generate_tree(n, p):\n",
    "        G = RandomCatusGenerator.findG(n,p)\n",
    "        T = RandomCatusGenerator.findT(n, G)\n",
    "        return T\n",
    "        "
   ]
  },
  {
   "cell_type": "code",
   "execution_count": 99,
   "metadata": {},
   "outputs": [
    {
     "data": {
      "text/plain": [
       "array([[0., 0., 1.],\n",
       "       [0., 0., 1.],\n",
       "       [1., 1., 0.]])"
      ]
     },
     "execution_count": 99,
     "metadata": {},
     "output_type": "execute_result"
    }
   ],
   "source": [
    "T = RandomCatusGenerator.generate_tree(3, 0.5)\n",
    "T"
   ]
  },
  {
   "cell_type": "code",
   "execution_count": 96,
   "metadata": {},
   "outputs": [
    {
     "data": {
      "text/plain": [
       "array([[0., 1., 1.],\n",
       "       [1., 0., 0.],\n",
       "       [1., 0., 0.]])"
      ]
     },
     "execution_count": 96,
     "metadata": {},
     "output_type": "execute_result"
    }
   ],
   "source": [
    "T"
   ]
  },
  {
   "cell_type": "code",
   "execution_count": null,
   "metadata": {},
   "outputs": [],
   "source": []
  }
 ],
 "metadata": {
  "kernelspec": {
   "display_name": "Python 3",
   "language": "python",
   "name": "python3"
  },
  "language_info": {
   "codemirror_mode": {
    "name": "ipython",
    "version": 3
   },
   "file_extension": ".py",
   "mimetype": "text/x-python",
   "name": "python",
   "nbconvert_exporter": "python",
   "pygments_lexer": "ipython3",
   "version": "3.7.4"
  }
 },
 "nbformat": 4,
 "nbformat_minor": 2
}
