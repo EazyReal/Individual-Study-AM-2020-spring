{
 "cells": [
  {
   "cell_type": "code",
   "execution_count": 1,
   "metadata": {},
   "outputs": [],
   "source": [
    "import numpy as np\n",
    "from collections import defaultdict\n",
    "import networkx as nx\n",
    "import time\n",
    "import subprocess\n",
    "from subprocess import Popen, PIPE, STDOUT"
   ]
  },
  {
   "cell_type": "code",
   "execution_count": 2,
   "metadata": {},
   "outputs": [],
   "source": [
    "def generate1(n, k, p=0.5):\n",
    "    T = nx.generators.trees.random_tree(n, int(time.time()))\n",
    "    print(T.edges)\n",
    "    print(n, k)\n",
    "    for e in T.edges:\n",
    "        print(e[0], e[1])\n",
    "    #nx.draw(T,with_labels=True)\n",
    "    print()\n",
    "    nx.draw(T, with_labels=True)"
   ]
  },
  {
   "cell_type": "code",
   "execution_count": 16,
   "metadata": {},
   "outputs": [
    {
     "name": "stdout",
     "output_type": "stream",
     "text": [
      "[(0, 8), (0, 11), (0, 13), (1, 14), (2, 4), (2, 8), (3, 6), (4, 9), (5, 10), (6, 12), (6, 11), (7, 8), (10, 14), (13, 14)]\n"
     ]
    },
    {
     "data": {
      "text/plain": [
       "'15 2 0 8 0 11 0 13 1 14 2 4 2 8 3 6 4 9 5 10 6 12 6 11 7 8 10 14 13 14'"
      ]
     },
     "execution_count": 16,
     "metadata": {},
     "output_type": "execute_result"
    }
   ],
   "source": [
    "n = 15\n",
    "k = 2\n",
    "T = nx.generators.trees.random_tree(n, int(time.time()))\n",
    "print(T.edges)\n",
    "tc = \"\"\n",
    "tc += str(n) + \" \" + str(k)\n",
    "for a, b in T.edges:\n",
    "    tc += \" \" + str(a) + \" \" + str(b)\n",
    "tc"
   ]
  },
  {
   "cell_type": "code",
   "execution_count": null,
   "metadata": {},
   "outputs": [],
   "source": [
    "p = run(['./out'], stdout=PIPE,\n",
    "        input=testcase, encoding='ascii')\n",
    "print(p.returncode)\n",
    "# -> 0\n",
    "print(p.stdout)"
   ]
  }
 ],
 "metadata": {
  "kernelspec": {
   "display_name": "Python 3",
   "language": "python",
   "name": "python3"
  },
  "language_info": {
   "codemirror_mode": {
    "name": "ipython",
    "version": 3
   },
   "file_extension": ".py",
   "mimetype": "text/x-python",
   "name": "python",
   "nbconvert_exporter": "python",
   "pygments_lexer": "ipython3",
   "version": "3.7.4"
  }
 },
 "nbformat": 4,
 "nbformat_minor": 2
}
