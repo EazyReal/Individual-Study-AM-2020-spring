{
 "cells": [
  {
   "cell_type": "code",
   "execution_count": 2,
   "metadata": {},
   "outputs": [],
   "source": [
    "import random\n",
    "import os\n",
    "import numpy as np"
   ]
  },
  {
   "cell_type": "code",
   "execution_count": 17,
   "metadata": {},
   "outputs": [],
   "source": [
    "class RandomCatusGenerator:\n",
    "    # find a seed graph G\n",
    "    # then find a spanning tree T\n",
    "    # use T on G extend to a cactus by tries t\n",
    "    # ttps://link.springer.com/chapter/10.1007/978-3-030-10448-1_12\n",
    "    def __init__(self):\n",
    "        pass\n",
    "    \n",
    "    @staticmethod\n",
    "    def findG(n, p):\n",
    "        return np.random.binomial(1, p, n*n).reshape(n, n)\n",
    "    \n",
    "    @staticmethod\n",
    "    def findT(n, G):\n",
    "        vis = [False]*n\n",
    "        return \n",
    "    \n",
    "    @staticmethod\n",
    "    # n = #vertex\n",
    "    # p = prob of connection to find \n",
    "    def generate(n, p, t):\n",
    "        G = findG(n,p)\n",
    "        T = findT(n, G)\n",
    "        K = findK(n, T, G, t)\n",
    "        return K\n",
    "        "
   ]
  },
  {
   "cell_type": "code",
   "execution_count": 19,
   "metadata": {},
   "outputs": [
    {
     "name": "stdout",
     "output_type": "stream",
     "text": [
      "[0, 0, 0, 0, 0, 0, 0, 0, 0, 0]\n"
     ]
    }
   ],
   "source": [
    "s = RandomCatusGenerator.findT(10, 0.5)\n",
    "s"
   ]
  },
  {
   "cell_type": "code",
   "execution_count": null,
   "metadata": {},
   "outputs": [],
   "source": []
  }
 ],
 "metadata": {
  "kernelspec": {
   "display_name": "Python 3",
   "language": "python",
   "name": "python3"
  },
  "language_info": {
   "codemirror_mode": {
    "name": "ipython",
    "version": 3
   },
   "file_extension": ".py",
   "mimetype": "text/x-python",
   "name": "python",
   "nbconvert_exporter": "python",
   "pygments_lexer": "ipython3",
   "version": "3.7.0"
  }
 },
 "nbformat": 4,
 "nbformat_minor": 2
}
