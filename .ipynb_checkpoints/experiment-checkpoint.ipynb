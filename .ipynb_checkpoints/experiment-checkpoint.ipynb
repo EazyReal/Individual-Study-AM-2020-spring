{
 "cells": [
  {
   "cell_type": "code",
   "execution_count": 1,
   "metadata": {},
   "outputs": [],
   "source": [
    "import numpy as np\n",
    "from collections import defaultdict\n",
    "import networkx as nx\n",
    "import time\n",
    "import subprocess\n",
    "from subprocess import Popen, PIPE, STDOUT, run"
   ]
  },
  {
   "cell_type": "code",
   "execution_count": 2,
   "metadata": {},
   "outputs": [],
   "source": [
    "exe_file_name = \"exp_cpp\"\n",
    "exe_cmd = \"./\" + exe_file_name"
   ]
  },
  {
   "cell_type": "code",
   "execution_count": 3,
   "metadata": {},
   "outputs": [],
   "source": [
    "def generate1(n, k, p=0.5):\n",
    "    T = nx.generators.trees.random_tree(n, int(time.time()))\n",
    "    print(T.edges)\n",
    "    print(n, k)\n",
    "    for e in T.edges:\n",
    "        print(e[0], e[1])\n",
    "    #nx.draw(T,with_labels=True)\n",
    "    print()\n",
    "    nx.draw(T, with_labels=True)"
   ]
  },
  {
   "cell_type": "code",
   "execution_count": 4,
   "metadata": {},
   "outputs": [],
   "source": [
    "def str_tc(n, k):\n",
    "    T = nx.generators.trees.random_tree(n, int(time.time()))\n",
    "    # print(T.edges)\n",
    "    tc = \"\"\n",
    "    tc += str(n) + \" \" + str(k)\n",
    "    for a, b in T.edges:\n",
    "        tc += \" \" + str(a) + \" \" + str(b)\n",
    "    return tc"
   ]
  },
  {
   "cell_type": "code",
   "execution_count": 5,
   "metadata": {},
   "outputs": [
    {
     "name": "stdout",
     "output_type": "stream",
     "text": [
      "12 174\n"
     ]
    },
    {
     "data": {
      "text/plain": [
       "int"
      ]
     },
     "execution_count": 5,
     "metadata": {},
     "output_type": "execute_result"
    }
   ],
   "source": [
    "p = run([exe_cmd], stdout=PIPE,\n",
    "        input=str_tc(100,2), encoding='ascii')\n",
    "ans, t= map(int,p.stdout.split())\n",
    "print(ans, t)\n",
    "type(ans)"
   ]
  },
  {
   "cell_type": "code",
   "execution_count": 6,
   "metadata": {},
   "outputs": [],
   "source": [
    "def run1(n, k):\n",
    "    p = run([exe_cmd], stdout=PIPE, input=str_tc(n,k), encoding='ascii')\n",
    "    ans, t= map(int,p.stdout.split())\n",
    "    return ans, t"
   ]
  },
  {
   "cell_type": "code",
   "execution_count": 7,
   "metadata": {},
   "outputs": [],
   "source": [
    "range_n = 11\n",
    "exp_time\n",
    "dat = np.zeros((range_n, range_n, ))\n",
    "for exp_n in range(1,range_n):\n",
    "    for exp_k in range(exp_n+1):\n",
    "        _, dat[exp_n][exp_k] = run1(exp_n, exp_k)"
   ]
  },
  {
   "cell_type": "code",
   "execution_count": 8,
   "metadata": {},
   "outputs": [
    {
     "data": {
      "text/plain": [
       "array([[  0.,   0.,   0.,   0.,   0.,   0.,   0.,   0.,   0.,   0.,   0.],\n",
       "       [ 23.,  22.,   0.,   0.,   0.,   0.,   0.,   0.,   0.,   0.,   0.],\n",
       "       [ 22.,  64.,  26.,   0.,   0.,   0.,   0.,   0.,   0.,   0.,   0.],\n",
       "       [ 26.,  26.,  26.,  29.,   0.,   0.,   0.,   0.,   0.,   0.,   0.],\n",
       "       [ 27.,  29.,  29.,  30.,  34.,   0.,   0.,   0.,   0.,   0.,   0.],\n",
       "       [ 27.,  29.,  33.,  31.,  36.,  38.,   0.,   0.,   0.,   0.,   0.],\n",
       "       [ 23.,  38.,  32.,  34.,  34.,  39.,  43.,   0.,   0.,   0.,   0.],\n",
       "       [ 28.,  33.,  36.,  38.,  40.,  61.,  45.,  52.,   0.,   0.,   0.],\n",
       "       [230.,  34.,  39.,  39.,  41.,  49.,  52.,  55.,  57.,   0.,   0.],\n",
       "       [ 30.,  34.,  39.,  43.,  49.,  53.,  57.,  59.,  64.,  67.,   0.],\n",
       "       [ 32.,  37.,  43.,  48.,  53.,  57.,  91.,  60.,  66.,  69.,  69.]])"
      ]
     },
     "execution_count": 8,
     "metadata": {},
     "output_type": "execute_result"
    }
   ],
   "source": [
    "dat"
   ]
  },
  {
   "cell_type": "code",
   "execution_count": null,
   "metadata": {},
   "outputs": [],
   "source": []
  }
 ],
 "metadata": {
  "kernelspec": {
   "display_name": "Python 3",
   "language": "python",
   "name": "python3"
  },
  "language_info": {
   "codemirror_mode": {
    "name": "ipython",
    "version": 3
   },
   "file_extension": ".py",
   "mimetype": "text/x-python",
   "name": "python",
   "nbconvert_exporter": "python",
   "pygments_lexer": "ipython3",
   "version": "3.7.4"
  }
 },
 "nbformat": 4,
 "nbformat_minor": 2
}
